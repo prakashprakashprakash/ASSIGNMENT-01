{
  "nbformat": 4,
  "nbformat_minor": 0,
  "metadata": {
    "colab": {
      "name": "prakash j assignment 2.ipynb",
      "provenance": [],
      "collapsed_sections": [],
      "authorship_tag": "ABX9TyPfkLddWClGxqR1lQXFzZL8",
      "include_colab_link": true
    },
    "kernelspec": {
      "name": "python3",
      "display_name": "Python 3"
    },
    "language_info": {
      "name": "python"
    }
  },
  "cells": [
    {
      "cell_type": "markdown",
      "metadata": {
        "id": "view-in-github",
        "colab_type": "text"
      },
      "source": [
        "<a href=\"https://colab.research.google.com/github/prakashprakashprakash/ASSIGNMENT-01/blob/main/prakash_j_assignment_2.ipynb\" target=\"_parent\"><img src=\"https://colab.research.google.com/assets/colab-badge.svg\" alt=\"Open In Colab\"/></a>"
      ]
    },
    {
      "cell_type": "code",
      "metadata": {
        "colab": {
          "base_uri": "https://localhost:8080/"
        },
        "id": "FxfZUuxPVdrF",
        "outputId": "395a1267-d3f3-445f-874a-8c006cd16169"
      },
      "source": [
        "#the removal of all occurrences value from list\n",
        "\n",
        "\n",
        "def remove_items(x, item):\n",
        "\n",
        "\tfor i in x:\n",
        "\t\tif(i == item):\n",
        "\t\t\tx.remove(i)\n",
        "\n",
        "\treturn x\n",
        "\n",
        "\n",
        "if __name__==\"__main__\":\n",
        "\t\n",
        "\tx = [1, 3, 4, 6, 5, 1, 11]\n",
        "\n",
        "\n",
        "\titem = 1\n",
        "  \n",
        "\n",
        "\tprint (\"The actual list is : \" + str(x))\n",
        "\n",
        "\ty = remove_items(x, item)\n",
        " \n",
        "\tprint (\"remain value : \" + str(y))\n"
      ],
      "execution_count": null,
      "outputs": [
        {
          "output_type": "stream",
          "text": [
            "The actual list is : [1, 3, 4, 6, 5, 1, 11]\n",
            "remain value : [3, 4, 6, 5, 11]\n"
          ],
          "name": "stdout"
        }
      ]
    },
    {
      "cell_type": "code",
      "metadata": {
        "id": "fn8QfaZfVfTn"
      },
      "source": [
        ""
      ],
      "execution_count": null,
      "outputs": []
    },
    {
      "cell_type": "code",
      "metadata": {
        "id": "O1_TY-i9n-Zg"
      },
      "source": [
        ""
      ],
      "execution_count": null,
      "outputs": []
    }
  ]
}