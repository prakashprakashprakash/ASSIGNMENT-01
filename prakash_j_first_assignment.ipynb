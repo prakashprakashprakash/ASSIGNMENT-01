{
  "nbformat": 4,
  "nbformat_minor": 0,
  "metadata": {
    "colab": {
      "name": "prakash j- first assignment.ipynb",
      "provenance": [],
      "collapsed_sections": [],
      "authorship_tag": "ABX9TyMg1H7jDBm+jS4DMy44ujQV",
      "include_colab_link": true
    },
    "kernelspec": {
      "name": "python3",
      "display_name": "Python 3"
    },
    "language_info": {
      "name": "python"
    }
  },
  "cells": [
    {
      "cell_type": "markdown",
      "metadata": {
        "id": "view-in-github",
        "colab_type": "text"
      },
      "source": [
        "<a href=\"https://colab.research.google.com/github/prakashprakashprakash/ASSIGNMENT-01/blob/main/prakash_j_first_assignment.ipynb\" target=\"_parent\"><img src=\"https://colab.research.google.com/assets/colab-badge.svg\" alt=\"Open In Colab\"/></a>"
      ]
    },
    {
      "cell_type": "markdown",
      "metadata": {
        "id": "fy8TBf6YdHOt"
      },
      "source": [
        ""
      ]
    },
    {
      "cell_type": "code",
      "metadata": {
        "id": "dW62AsadsWiW",
        "colab": {
          "base_uri": "https://localhost:8080/"
        },
        "outputId": "b000cd9f-7fe1-4328-a945-9c9c7fa898b6"
      },
      "source": [
        "ma=[10,12,14,15,'kumar','arun']\n",
        "print(type(ma))\n"
      ],
      "execution_count": null,
      "outputs": [
        {
          "output_type": "stream",
          "text": [
            "<class 'list'>\n"
          ],
          "name": "stdout"
        }
      ]
    },
    {
      "cell_type": "code",
      "metadata": {
        "colab": {
          "base_uri": "https://localhost:8080/"
        },
        "id": "EPmLhNoPuDfd",
        "outputId": "e666d633-772e-41e7-b96d-fb388213498a"
      },
      "source": [
        "print(ma)"
      ],
      "execution_count": null,
      "outputs": [
        {
          "output_type": "stream",
          "text": [
            "[10, 12, 14, 15, 'kumar', 'arun']\n"
          ],
          "name": "stdout"
        }
      ]
    },
    {
      "cell_type": "code",
      "metadata": {
        "colab": {
          "base_uri": "https://localhost:8080/"
        },
        "id": "UDfgQIcIuGB6",
        "outputId": "03fbffac-27f1-4393-d5ba-b24c78fb8ef9"
      },
      "source": [
        "ma.reverse()\n",
        "print(ma)"
      ],
      "execution_count": null,
      "outputs": [
        {
          "output_type": "stream",
          "text": [
            "['arun', 'kumar', 15, 14, 12, 10]\n"
          ],
          "name": "stdout"
        }
      ]
    },
    {
      "cell_type": "code",
      "metadata": {
        "id": "RhMd8Tt1ubWj"
      },
      "source": [
        "jp=[50,200,350,750,1000]\n",
        "jp.sort()\n"
      ],
      "execution_count": null,
      "outputs": []
    },
    {
      "cell_type": "code",
      "metadata": {
        "colab": {
          "base_uri": "https://localhost:8080/"
        },
        "id": "Y_H04jCtuz0H",
        "outputId": "bc497199-adf0-4c02-9982-d908094b4b40"
      },
      "source": [
        "print(jp)"
      ],
      "execution_count": null,
      "outputs": [
        {
          "output_type": "stream",
          "text": [
            "[50, 200, 350, 750, 1000]\n"
          ],
          "name": "stdout"
        }
      ]
    },
    {
      "cell_type": "code",
      "metadata": {
        "colab": {
          "base_uri": "https://localhost:8080/"
        },
        "id": "1lwdcYxNu_SV",
        "outputId": "3310d78e-6f92-4cf3-baab-b4f921f17089"
      },
      "source": [
        "jp.reverse()\n",
        "print(jp)"
      ],
      "execution_count": null,
      "outputs": [
        {
          "output_type": "stream",
          "text": [
            "[1000, 750, 350, 200, 50]\n"
          ],
          "name": "stdout"
        }
      ]
    }
  ]
}